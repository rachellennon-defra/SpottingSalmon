{
 "cells": [
  {
   "cell_type": "markdown",
   "metadata": {
    "application/vnd.databricks.v1+cell": {
     "cellMetadata": {},
     "inputWidgets": {},
     "nuid": "90ed2bd3-14a4-4cca-847d-cb9a8ac5ebc9",
     "showTitle": false,
     "tableResultSettingsMap": {},
     "title": ""
    }
   },
   "source": [
    "**EDA**\n",
    "\n",
    "Basic EDA to see what the data look like. \n",
    "\n",
    "\n",
    "Start by looking at the daily resistivity .csv files exactacted into Thr 20 process by 0.1_ExtractGzipFiles. "
   ]
  },
  {
   "cell_type": "code",
   "execution_count": 0,
   "metadata": {
    "application/vnd.databricks.v1+cell": {
     "cellMetadata": {
      "byteLimit": 2048000,
      "rowLimit": 10000
     },
     "inputWidgets": {},
     "nuid": "fbf80486-e683-457f-8b26-96aaf4c00af4",
     "showTitle": false,
     "tableResultSettingsMap": {
      "0": {
       "dataGridStateBlob": "{\"version\":1,\"tableState\":{\"columnPinning\":{\"left\":[\"#row_number#\"],\"right\":[]},\"columnSizing\":{\"0\":148},\"columnVisibility\":{}},\"settings\":{\"columns\":{}},\"syncTimestamp\":1755162395076}",
       "filterBlob": null,
       "queryPlanFiltersBlob": null,
       "tableResultIndex": 0
      }
     },
     "title": ""
    }
   },
   "outputs": [],
   "source": [
    "import pandas as pd \n",
    "import glob\n",
    "\n",
    "# Define file path to daily df #1\n",
    "file_path = \"/dbfs/mnt/lab/unrestricted/rachel.lennon@defra.gov.uk/Thr 20 process/*Z\"\n",
    "\n",
    "# Read the csv into a pandas df\n",
    "for file in glob.glob(file_path):\n",
    "    df = pd.read_csv(file, header = None)\n",
    "    # Display some basic info about the df \n",
    "    df.info()\n",
    "    # Look at head of df\n",
    "    display(df.head(10))\n"
   ]
  },
  {
   "cell_type": "markdown",
   "metadata": {
    "application/vnd.databricks.v1+cell": {
     "cellMetadata": {},
     "inputWidgets": {},
     "nuid": "9d5e5dc5-2851-489b-8051-0a54778e7819",
     "showTitle": false,
     "tableResultSettingsMap": {},
     "title": ""
    }
   },
   "source": [
    "It's HUGE! \n",
    "\n",
    "Now, lets do some QC:"
   ]
  },
  {
   "cell_type": "code",
   "execution_count": 0,
   "metadata": {
    "application/vnd.databricks.v1+cell": {
     "cellMetadata": {
      "byteLimit": 2048000,
      "rowLimit": 10000
     },
     "inputWidgets": {},
     "nuid": "e24aeb1c-48a0-4f94-a03c-df4c692d43af",
     "showTitle": false,
     "tableResultSettingsMap": {},
     "title": ""
    }
   },
   "outputs": [],
   "source": [
    "# Check for NaNs\n",
    "print('NaNs')\n",
    "print(df.isnull().sum())\n",
    "\n",
    "# Check for zeros\n",
    "print()\n",
    "print('Zeros')\n",
    "print(df.isin([0]).sum())\n",
    "\n",
    "# Check for duplicate rows\n",
    "print()\n",
    "print(df[df.duplicated()])\n",
    "\n"
   ]
  },
  {
   "cell_type": "markdown",
   "metadata": {
    "application/vnd.databricks.v1+cell": {
     "cellMetadata": {},
     "inputWidgets": {},
     "nuid": "73f381e4-5e49-416b-9612-885947efa795",
     "showTitle": false,
     "tableResultSettingsMap": {},
     "title": ""
    }
   },
   "source": [
    "Main issue is our duplicates. I think that is because sometimes the sample rate is so rapid its taking the same measurement in a matter of miliseconds. We could get rid of these when the time and the resisitivity reading is the same. \n",
    "\n",
    "So now remove duplicates and save as a filtered df. "
   ]
  },
  {
   "cell_type": "code",
   "execution_count": 0,
   "metadata": {
    "application/vnd.databricks.v1+cell": {
     "cellMetadata": {
      "byteLimit": 2048000,
      "rowLimit": 10000
     },
     "inputWidgets": {},
     "nuid": "e212d06d-9c13-499e-8ea8-59a672284541",
     "showTitle": false,
     "tableResultSettingsMap": {},
     "title": ""
    }
   },
   "outputs": [],
   "source": [
    "import os\n",
    "\n",
    "# Define file paths\n",
    "file_pattern = \"/dbfs/mnt/lab/unrestricted/rachel.lennon@defra.gov.uk/*Z\"\n",
    "output_folder = \"/dbfs/mnt/lab/unrestricted/rachel.lennon@defra.gov.uk/DuplicateFree\" \n",
    "\n",
    "os.makedirs(output_folder, exist_ok=True)\n",
    "\n",
    "# Remove duplicates from each file\n",
    "for file in glob.glob(file_pattern):\n",
    "    df = pd.read_csv(file, header = None)\n",
    "    dfd = df.drop_duplicates().reset_index(drop=True)\n",
    "    \n",
    "    # Create new filename based on original file\n",
    "    filename = os.path.basename(file).replace(\"Z\", \"Z_no_duplicate\")\n",
    "    save_path = os.path.join(output_folder, filename)\n",
    "    \n",
    "    #Save\n",
    "    dfd.to_csv(save_path, index=False)\n",
    "\n",
    "print(\"All datasets labelled and saved.\")\n",
    "\n"
   ]
  },
  {
   "cell_type": "markdown",
   "metadata": {
    "application/vnd.databricks.v1+cell": {
     "cellMetadata": {},
     "inputWidgets": {},
     "nuid": "f9be21b3-ae96-459b-ad54-a3556cddbf76",
     "showTitle": false,
     "tableResultSettingsMap": {},
     "title": ""
    }
   },
   "source": [
    "Now let's take a wee look at the labelled fish data and how this is structured. "
   ]
  },
  {
   "cell_type": "code",
   "execution_count": 0,
   "metadata": {
    "application/vnd.databricks.v1+cell": {
     "cellMetadata": {
      "byteLimit": 2048000,
      "rowLimit": 10000
     },
     "inputWidgets": {},
     "nuid": "304969a7-1dd4-4ad1-862f-1fbebd7fa7f0",
     "showTitle": false,
     "tableResultSettingsMap": {
      "0": {
       "dataGridStateBlob": "{\"version\":1,\"tableState\":{\"columnPinning\":{\"left\":[\"#row_number#\"],\"right\":[]},\"columnSizing\":{},\"columnVisibility\":{}},\"settings\":{\"columns\":{}},\"syncTimestamp\":1755001729135}",
       "filterBlob": "{\"version\":1,\"filterGroups\":[{\"enabled\":true,\"filterGroupId\":\"fg_2f473f14\",\"op\":\"OR\",\"filters\":[{\"filterId\":\"f_71ed9f25\",\"enabled\":true,\"columnId\":\"Etype\",\"dataType\":\"string\",\"filterType\":\"oneof\",\"filterValues\":[],\"filterConfig\":{\"caseSensitive\":true}}],\"local\":false,\"updatedAt\":1755001715165},{\"enabled\":true,\"filterGroupId\":\"fg_85bdd21d\",\"op\":\"OR\",\"filters\":[{\"filterId\":\"f_128cdbc6\",\"enabled\":true,\"columnId\":\"Etype\",\"dataType\":\"string\",\"filterType\":\"oneof\",\"filterValues\":[],\"filterConfig\":{\"caseSensitive\":true}}],\"local\":false,\"updatedAt\":1755001739828},{\"enabled\":true,\"filterGroupId\":\"fg_5995b38\",\"op\":\"OR\",\"filters\":[{\"filterId\":\"f_6d7ee36a\",\"enabled\":true,\"columnId\":\"Etype\",\"dataType\":\"string\",\"filterType\":\"oneof\",\"filterValues\":[\"<##> EVENT  \",\"<##> LF NOISE  \"],\"filterConfig\":{\"caseSensitive\":true}}],\"local\":false,\"updatedAt\":1755002021866}],\"syncTimestamp\":1755002021866}",
       "queryPlanFiltersBlob": "[{\"kind\":\"call\",\"function\":\"and\",\"args\":[{\"kind\":\"call\",\"function\":\"or\",\"args\":[{\"kind\":\"call\",\"function\":\"in\",\"args\":[{\"kind\":\"identifier\",\"identifier\":\"Etype\"},{\"kind\":\"literal\",\"value\":\"<##> EVENT  \",\"type\":\"string\"},{\"kind\":\"literal\",\"value\":\"<##> LF NOISE  \",\"type\":\"string\"}]}]}]}]",
       "tableResultIndex": 0
      }
     },
     "title": ""
    }
   },
   "outputs": [],
   "source": [
    "# Define file path to daily df #1\n",
    "file_path = \"/dbfs/mnt/lab/unrestricted/rachel.lennon@defra.gov.uk/Thr 20 process/test_KMThu16_2021_07.csv\"\n",
    "lfd = pd.read_csv(file_path, header = 0)\n",
    "\n",
    "\n",
    "# Display some basic info about the df \n",
    "lfd.info()\n",
    "\n",
    "# Look at head of df\n",
    "display(lfd)\n",
    "\n"
   ]
  },
  {
   "cell_type": "markdown",
   "metadata": {
    "application/vnd.databricks.v1+cell": {
     "cellMetadata": {},
     "inputWidgets": {},
     "nuid": "2f40defd-dd6a-4378-95f2-4e06879c9b62",
     "showTitle": false,
     "tableResultSettingsMap": {},
     "title": ""
    }
   },
   "source": [
    "There are two types of events, event and LF NOISE. We only want the events because LF NOISE is something other than a fish passage event (i.e., ice, canoe, otter)."
   ]
  },
  {
   "cell_type": "code",
   "execution_count": 0,
   "metadata": {
    "application/vnd.databricks.v1+cell": {
     "cellMetadata": {
      "byteLimit": 2048000,
      "rowLimit": 10000
     },
     "inputWidgets": {},
     "nuid": "72dffab2-4e4d-4f40-943d-8c1310df33bd",
     "showTitle": false,
     "tableResultSettingsMap": {},
     "title": ""
    }
   },
   "outputs": [],
   "source": [
    "# Filter out so only have Event \n",
    "filtered_df = lfd[lfd['Etype'] == '<##> EVENT  ']\n",
    "\n",
    "# Save df\n",
    "filtered_df.to_csv(\"/dbfs/mnt/lab/unrestricted/rachel.lennon@defra.gov.uk/Thr 20 process/test_KMThu16_2021_07_eventonly.csv\", index=False)\n",
    "\n",
    "# Investigate\n",
    "display(filtered_df)\n",
    "filtered_df.info()\n",
    "filtered_df.describe()\n"
   ]
  }
 ],
 "metadata": {
  "application/vnd.databricks.v1+notebook": {
   "computePreferences": null,
   "dashboards": [],
   "environmentMetadata": {
    "base_environment": "",
    "environment_version": "2"
   },
   "inputWidgetPreferences": null,
   "language": "python",
   "notebookMetadata": {
    "pythonIndentUnit": 4
   },
   "notebookName": "1_EDA",
   "widgets": {}
  },
  "language_info": {
   "name": "python"
  }
 },
 "nbformat": 4,
 "nbformat_minor": 0
}
