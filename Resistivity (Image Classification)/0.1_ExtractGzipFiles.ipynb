{
 "cells": [
  {
   "cell_type": "markdown",
   "metadata": {
    "application/vnd.databricks.v1+cell": {
     "cellMetadata": {},
     "inputWidgets": {},
     "nuid": "12e32d83-5941-4091-b4c3-a9d392759e17",
     "showTitle": false,
     "tableResultSettingsMap": {},
     "title": ""
    }
   },
   "source": [
    "Import the .gz files into the FileStore and run the below to extract."
   ]
  },
  {
   "cell_type": "code",
   "execution_count": 0,
   "metadata": {
    "application/vnd.databricks.v1+cell": {
     "cellMetadata": {
      "byteLimit": 2048000,
      "rowLimit": 10000
     },
     "inputWidgets": {},
     "nuid": "8197b284-ae27-4ae7-9bff-af0825b21889",
     "showTitle": false,
     "tableResultSettingsMap": {},
     "title": ""
    }
   },
   "outputs": [],
   "source": [
    "# Import relevant packages\n",
    "import gzip\n",
    "import shutil\n",
    "import os\n",
    "\n",
    "# Set the directory where the .gz files are located\n",
    "input_dir = \"/dbfs/FileStore/rachlenn/Thr 20 process\"  \n",
    "\n",
    "# Create the output directory\n",
    "output_dir = \"/dbfs/FileStore/rachlenn/Thr 20 process\"\n",
    "os.makedirs(output_dir, exist_ok=True)\n",
    "\n",
    "# Loop through all .gz files\n",
    "for filename in os.listdir(input_dir):\n",
    "    if filename.endswith(\".gz\"):\n",
    "        gz_path = os.path.join(input_dir, filename)\n",
    "        csv_filename = filename[:-7]  # Remove .csv.gz extension\n",
    "        csv_path = os.path.join(output_dir, csv_filename)\n",
    "\n",
    "        print(f\"Decompressing: {filename} → {csv_filename}\")\n",
    "\n",
    "        with gzip.open(gz_path, 'rb') as f_in:\n",
    "            with open(csv_path, 'wb') as f_out:\n",
    "                shutil.copyfileobj(f_in, f_out)\n"
   ]
  },
  {
   "cell_type": "code",
   "execution_count": 0,
   "metadata": {
    "application/vnd.databricks.v1+cell": {
     "cellMetadata": {
      "byteLimit": 2048000,
      "rowLimit": 10000
     },
     "inputWidgets": {},
     "nuid": "4e06012b-05c8-4752-9ef6-a2467770b79b",
     "showTitle": false,
     "tableResultSettingsMap": {},
     "title": ""
    }
   },
   "outputs": [],
   "source": [
    "# Move the extracted CSV files to the mounted lab zone directory\n",
    "dbutils.fs.mv(\"/FileStore/rachlenn/Thr 20 process\", \"mnt/lab/unrestricted/rachel.lennon@defra.gov.uk/thr20_july_2021\", True) "
   ]
  },
  {
   "cell_type": "code",
   "execution_count": 0,
   "metadata": {
    "application/vnd.databricks.v1+cell": {
     "cellMetadata": {
      "byteLimit": 2048000,
      "rowLimit": 10000
     },
     "inputWidgets": {},
     "nuid": "a330b815-c006-48ba-8e67-eaef188c0921",
     "showTitle": false,
     "tableResultSettingsMap": {},
     "title": ""
    }
   },
   "outputs": [],
   "source": [
    "# Path to the directory where .gz files are stored\n",
    "gz_dir = \"/dbfs/FileStore/rachlenn/Thr 20 process\"\n",
    "\n",
    "# Loop through and delete all .gz files\n",
    "for filename in os.listdir(gz_dir):\n",
    "    if filename.endswith(\".gz\"):\n",
    "        file_path = os.path.join(gz_dir, filename)\n",
    "        os.remove(file_path)\n",
    "        print(f\"🗑 Deleted: {filename}\")"
   ]
  },
  {
   "cell_type": "code",
   "execution_count": 0,
   "metadata": {
    "application/vnd.databricks.v1+cell": {
     "cellMetadata": {
      "byteLimit": 2048000,
      "rowLimit": 10000
     },
     "inputWidgets": {},
     "nuid": "ae3eb868-9982-4008-8a28-078f239a965f",
     "showTitle": false,
     "tableResultSettingsMap": {
      "0": {
       "dataGridStateBlob": "{\"version\":1,\"tableState\":{\"columnPinning\":{\"left\":[\"#row_number#\"],\"right\":[]},\"columnSizing\":{\"_c0\":125},\"columnVisibility\":{}},\"settings\":{\"columns\":{}},\"syncTimestamp\":1754642439298}",
       "filterBlob": null,
       "queryPlanFiltersBlob": null,
       "tableResultIndex": 0
      }
     },
     "title": ""
    }
   },
   "outputs": [],
   "source": [
    "# Look at the df\n",
    "df = spark.read.csv(\n",
    "    \"/FileStore/rachlenn/Thr 20 process/test_KMThu16_2021_07_19_15_36_28Z\",\n",
    "    header=False,\n",
    "    inferSchema=True\n",
    ")\n",
    "\n",
    "display(df)"
   ]
  }
 ],
 "metadata": {
  "application/vnd.databricks.v1+notebook": {
   "computePreferences": null,
   "dashboards": [],
   "environmentMetadata": {
    "base_environment": "",
    "environment_version": "2"
   },
   "inputWidgetPreferences": null,
   "language": "python",
   "notebookMetadata": {
    "mostRecentlyExecutedCommandWithImplicitDF": {
     "commandId": -1,
     "dataframes": [
      "_sqldf"
     ]
    },
    "pythonIndentUnit": 4
   },
   "notebookName": "0.1_ExtractGzipFiles",
   "widgets": {}
  },
  "language_info": {
   "name": "python"
  }
 },
 "nbformat": 4,
 "nbformat_minor": 0
}
