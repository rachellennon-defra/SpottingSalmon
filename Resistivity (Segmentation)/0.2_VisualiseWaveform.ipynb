{
 "cells": [
  {
   "cell_type": "markdown",
   "metadata": {
    "application/vnd.databricks.v1+cell": {
     "cellMetadata": {},
     "inputWidgets": {},
     "nuid": "79582510-1aaf-4f81-8a0f-dab44628afcc",
     "showTitle": false,
     "tableResultSettingsMap": {},
     "title": ""
    }
   },
   "source": [
    "**Generate waveforms** \n",
    "\n",
    "Visualise the waveforms through 2 minute windows. "
   ]
  },
  {
   "cell_type": "markdown",
   "metadata": {
    "application/vnd.databricks.v1+cell": {
     "cellMetadata": {},
     "inputWidgets": {},
     "nuid": "5996b556-bfea-4736-9e64-233283401be4",
     "showTitle": false,
     "tableResultSettingsMap": {},
     "title": ""
    }
   },
   "source": [
    "Start of by cleaning the dataframe and creating a differential conductance column."
   ]
  },
  {
   "cell_type": "code",
   "execution_count": 0,
   "metadata": {
    "application/vnd.databricks.v1+cell": {
     "cellMetadata": {
      "byteLimit": 2048000,
      "rowLimit": 10000
     },
     "inputWidgets": {},
     "nuid": "87958152-93b4-4b1a-b5d3-d4b7dbf7abcd",
     "showTitle": false,
     "tableResultSettingsMap": {
      "0": {
       "dataGridStateBlob": "{\"version\":1,\"tableState\":{\"columnPinning\":{\"left\":[\"#row_number#\"],\"right\":[]},\"columnSizing\":{\"Time\":268},\"columnVisibility\":{}},\"settings\":{\"columns\":{}},\"syncTimestamp\":1754909924450}",
       "filterBlob": null,
       "queryPlanFiltersBlob": null,
       "tableResultIndex": 0
      }
     },
     "title": ""
    }
   },
   "outputs": [],
   "source": [
    "from pyspark.sql.functions import col\n",
    "import pandas as pd\n",
    "\n",
    "# Load CSV without header\n",
    "df = spark.read.csv(\n",
    "    \"/FileStore/rachlenn/Thr 20 process/test_KMThu16_2021_07_19_15_36_28Z\",\n",
    "    header=False,\n",
    "    inferSchema=True\n",
    ")\n",
    "\n",
    "# Rename columns\n",
    "df = df.withColumnRenamed(\"_c0\", \"timestamp\") \\\n",
    "       .withColumnRenamed(\"_c1\", \"upstream\") \\\n",
    "       .withColumnRenamed(\"_c2\", \"downstream\")\n",
    "\n",
    "# Convert to Pandas\n",
    "pdf = df.select(\"timestamp\", \"upstream\", \"downstream\").toPandas()\n",
    "\n",
    "# Convert Unix ms to datetime and delete the timestamp column\n",
    "pdf[\"Time\"] = pd.to_datetime(pdf[\"timestamp\"], unit='ms', utc=True)\n",
    "pdf = pdf.drop(columns=[\"timestamp\"])\n",
    "\n",
    "# Calculate differential conductance\n",
    "pdf[\"differential_conductance\"] = (pdf[\"downstream\"] - pdf[\"upstream\"]) / 2\n",
    "\n",
    "# Show head to check \n",
    "display(pdf.head(10))"
   ]
  },
  {
   "cell_type": "markdown",
   "metadata": {
    "application/vnd.databricks.v1+cell": {
     "cellMetadata": {},
     "inputWidgets": {},
     "nuid": "abfb6b4c-41fb-4d43-92b8-c1fc59b55a01",
     "showTitle": false,
     "tableResultSettingsMap": {},
     "title": ""
    }
   },
   "source": [
    "Make two minute windows from the data and sample rate."
   ]
  },
  {
   "cell_type": "code",
   "execution_count": 0,
   "metadata": {
    "application/vnd.databricks.v1+cell": {
     "cellMetadata": {
      "byteLimit": 2048000,
      "rowLimit": 10000
     },
     "inputWidgets": {},
     "nuid": "6bb8f4ae-ad79-42ce-9f9e-199e04d1fa40",
     "showTitle": false,
     "tableResultSettingsMap": {},
     "title": ""
    }
   },
   "outputs": [],
   "source": [
    "# Generate 2 minute bins \n",
    "\n",
    "# Make sure dataframe is sorted by time\n",
    "pdf = pdf.sort_values(\"Time\").reset_index(drop=True)\n",
    "\n",
    "# Total number of samples\n",
    "num_samples = len(pdf)\n",
    "\n",
    "# Time difference in seconds\n",
    "time_delta = (pdf[\"Time\"].iloc[-1] - pdf[\"Time\"].iloc[0]).total_seconds()\n",
    "\n",
    "# Samples per second\n",
    "sps = num_samples / time_delta\n",
    "\n",
    "print(f\"Samples per second: {sps:.2f}\")\n",
    "\n",
    "# Make a window frame\n",
    "window_duration_seconds = 120\n",
    "\n",
    "rows_per_window = int(sps * window_duration_seconds)\n",
    "\n",
    "print(f\"Rows per 2 min window: {rows_per_window}\")\n"
   ]
  },
  {
   "cell_type": "markdown",
   "metadata": {
    "application/vnd.databricks.v1+cell": {
     "cellMetadata": {},
     "inputWidgets": {},
     "nuid": "0ada655e-fa14-42b0-9ad7-730fd14af5ef",
     "showTitle": false,
     "tableResultSettingsMap": {},
     "title": ""
    }
   },
   "source": [
    "Visualise the first window as a waveform."
   ]
  },
  {
   "cell_type": "code",
   "execution_count": 0,
   "metadata": {
    "application/vnd.databricks.v1+cell": {
     "cellMetadata": {
      "byteLimit": 2048000,
      "rowLimit": 10000
     },
     "inputWidgets": {},
     "nuid": "f8a96857-a559-4e2f-843a-af99ee9affdd",
     "showTitle": false,
     "tableResultSettingsMap": {},
     "title": ""
    }
   },
   "outputs": [],
   "source": [
    "import matplotlib.pyplot as plt\n",
    "\n",
    "#Define start time\n",
    "start_time = pd.Timestamp(\"2021-07-17 05:53:00\", tz=\"UTC\")   # adjust date to match your data\n",
    "\n",
    "# Filter the data starting from this time\n",
    "window_start = pdf.loc[pdf[\"Time\"] >= start_time].iloc[0].name\n",
    "\n",
    "# Now take the next 60 seconds (or rows)\n",
    "window = pdf.iloc[window_start : window_start + rows_per_window]\n",
    "\n",
    "plt.plot(window[\"Time\"], window[\"differential_conductance\"])\n",
    "plt.xlabel(\"Time\")\n",
    "plt.ylabel(\"Differential Conductance (μS/2)\")\n",
    "plt.show()\n"
   ]
  }
 ],
 "metadata": {
  "application/vnd.databricks.v1+notebook": {
   "computePreferences": null,
   "dashboards": [],
   "environmentMetadata": {
    "base_environment": "",
    "environment_version": "2"
   },
   "inputWidgetPreferences": null,
   "language": "python",
   "notebookMetadata": {
    "pythonIndentUnit": 4
   },
   "notebookName": "0.2_VisualiseWaveform",
   "widgets": {}
  },
  "language_info": {
   "name": "python"
  }
 },
 "nbformat": 4,
 "nbformat_minor": 0
}
