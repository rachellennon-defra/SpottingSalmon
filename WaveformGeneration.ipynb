{
 "cells": [
  {
   "cell_type": "markdown",
   "metadata": {
    "application/vnd.databricks.v1+cell": {
     "cellMetadata": {},
     "inputWidgets": {},
     "nuid": "79582510-1aaf-4f81-8a0f-dab44628afcc",
     "showTitle": false,
     "tableResultSettingsMap": {},
     "title": ""
    }
   },
   "source": [
    "**Generate waveforms** "
   ]
  },
  {
   "cell_type": "markdown",
   "metadata": {
    "application/vnd.databricks.v1+cell": {
     "cellMetadata": {},
     "inputWidgets": {},
     "nuid": "4178e270-fb45-4ec0-ad50-b22dde7cf626",
     "showTitle": false,
     "tableResultSettingsMap": {},
     "title": ""
    }
   },
   "source": [
    "Pull from the extracted csv folders and run through to clean and process resistivity data into 60s windows of waveforms. "
   ]
  },
  {
   "cell_type": "code",
   "execution_count": 0,
   "metadata": {
    "application/vnd.databricks.v1+cell": {
     "cellMetadata": {
      "byteLimit": 2048000,
      "rowLimit": 10000
     },
     "inputWidgets": {},
     "nuid": "87958152-93b4-4b1a-b5d3-d4b7dbf7abcd",
     "showTitle": false,
     "tableResultSettingsMap": {},
     "title": ""
    }
   },
   "outputs": [],
   "source": [
    "from pyspark.sql.functions import col\n",
    "import pandas as pd\n",
    "\n",
    "# Load CSV without header\n",
    "df = spark.read.csv(\n",
    "    \"/mnt/lab/unrestricted/rachel.lennon@defra.gov.uk/extracted_csv/test_KMThu16_2021_07_16_15_36_25Z\",\n",
    "    header=False,\n",
    "    inferSchema=True\n",
    ")\n",
    "\n",
    "# Rename columns\n",
    "df = df.withColumnRenamed(\"_c0\", \"timestamp\") \\\n",
    "       .withColumnRenamed(\"_c1\", \"upstream\") \\\n",
    "       .withColumnRenamed(\"_c2\", \"downstream\")\n",
    "\n",
    "# Convert to Pandas\n",
    "pdf = df.select(\"timestamp\", \"upstream\", \"downstream\").toPandas()\n",
    "\n",
    "# Convert Unix ms to datetime and delete the timestamp column\n",
    "pdf[\"datetime\"] = pd.to_datetime(pdf[\"timestamp\"], unit='ms', utc=True)\n",
    "pdf = pdf.drop(columns=[\"timestamp\"])\n",
    "\n",
    "# Calculate differential conductance\n",
    "pdf[\"differential_conductance\"] = (pdf[\"upstream\"] - pdf[\"downstream\"]) / 2\n",
    "\n",
    "# Show head to check \n",
    "display(pdf.head(10))\n"
   ]
  },
  {
   "cell_type": "code",
   "execution_count": 0,
   "metadata": {
    "application/vnd.databricks.v1+cell": {
     "cellMetadata": {
      "byteLimit": 2048000,
      "rowLimit": 10000
     },
     "inputWidgets": {},
     "nuid": "6bb8f4ae-ad79-42ce-9f9e-199e04d1fa40",
     "showTitle": false,
     "tableResultSettingsMap": {},
     "title": ""
    }
   },
   "outputs": [],
   "source": [
    "# Generate 60 second bins \n",
    "\n",
    "# Make sure dataframe is sorted by time\n",
    "pdf = pdf.sort_values(\"datetime\").reset_index(drop=True)\n",
    "\n",
    "# Total number of samples\n",
    "num_samples = len(pdf)\n",
    "\n",
    "# Time difference in seconds\n",
    "time_delta = (pdf[\"datetime\"].iloc[-1] - pdf[\"datetime\"].iloc[0]).total_seconds()\n",
    "\n",
    "# Samples per second\n",
    "sps = num_samples / time_delta\n",
    "\n",
    "print(f\"Samples per second: {sps:.2f}\")\n",
    "\n",
    "# Make a window frame\n",
    "window_duration_seconds = 60\n",
    "\n",
    "rows_per_window = int(sps * window_duration_seconds)\n",
    "\n",
    "print(f\"Rows per 60 sec window: {rows_per_window}\")\n"
   ]
  },
  {
   "cell_type": "code",
   "execution_count": 0,
   "metadata": {
    "application/vnd.databricks.v1+cell": {
     "cellMetadata": {
      "byteLimit": 2048000,
      "rowLimit": 10000
     },
     "inputWidgets": {},
     "nuid": "51fa13c6-3999-41c8-9761-0aa29b68a39d",
     "showTitle": false,
     "tableResultSettingsMap": {},
     "title": ""
    }
   },
   "outputs": [],
   "source": [
    "# Double check runs on 1st 60 seconds \n",
    "window = pdf.iloc[0:rows_per_window]\n",
    "plt.plot(window[\"datetime\"], window[\"differential_conductance\"])\n",
    "plt.xlabel(\"Time\")\n",
    "plt.ylabel(\"Differential Conductance (μS/2)\")\n",
    "plt.show()"
   ]
  },
  {
   "cell_type": "code",
   "execution_count": 0,
   "metadata": {
    "application/vnd.databricks.v1+cell": {
     "cellMetadata": {
      "byteLimit": 2048000,
      "rowLimit": 10000
     },
     "inputWidgets": {},
     "nuid": "f8a96857-a559-4e2f-843a-af99ee9affdd",
     "showTitle": false,
     "tableResultSettingsMap": {},
     "title": ""
    }
   },
   "outputs": [],
   "source": [
    "import matplotlib.pyplot as plt\n",
    "\n",
    "# You might want to save or keep track of plots\n",
    "import os; plot_dir = \"/mnt/lab/unrestricted/rachel.lennon@defra.gov.uk/2021-07-17-waveform_plots/\"; os.makedirs(plot_dir, exist_ok=True)  # your output path if needed\n",
    "\n",
    "# For example: every 60-second window\n",
    "for i in range(0, len(pdf), rows_per_window):\n",
    "    window = pdf.iloc[i:i+rows_per_window]\n",
    "    \n",
    "    # Skip incomplete window\n",
    "    if len(window) < rows_per_window:\n",
    "        continue\n",
    "\n",
    "    # Extract time and conductance\n",
    "    times = window[\"datetime\"]\n",
    "    conductance = window[\"differential_conductance\"]\n",
    "\n",
    "    # Plot\n",
    "    plt.figure(figsize=(10, 4))\n",
    "    plt.plot(times, conductance, color=\"steelblue\")\n",
    "    plt.xlabel(\"Time\")\n",
    "    plt.ylabel(\"Differential Conductance (μS/2)\")\n",
    "    plt.tight_layout()\n",
    "\n",
    "    # Show plot (if running interactively)\n",
    "    plt.show()\n",
    "\n",
    "    # Optionally, save to file\n",
    "    filename = f\"{plot_dir}waveform_{i//rows_per_window + 1}.png\"\n",
    "    plt.savefig(filename)\n",
    "    plt.close()\n"
   ]
  }
 ],
 "metadata": {
  "application/vnd.databricks.v1+notebook": {
   "computePreferences": null,
   "dashboards": [],
   "environmentMetadata": {
    "base_environment": "",
    "environment_version": "2"
   },
   "inputWidgetPreferences": null,
   "language": "python",
   "notebookMetadata": {
    "pythonIndentUnit": 4
   },
   "notebookName": "WaveformGeneration",
   "widgets": {}
  },
  "language_info": {
   "name": "python"
  }
 },
 "nbformat": 4,
 "nbformat_minor": 0
}
