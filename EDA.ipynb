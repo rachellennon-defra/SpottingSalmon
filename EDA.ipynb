{
 "cells": [
  {
   "cell_type": "code",
   "execution_count": 0,
   "metadata": {
    "application/vnd.databricks.v1+cell": {
     "cellMetadata": {
      "byteLimit": 2048000,
      "rowLimit": 10000
     },
     "inputWidgets": {},
     "nuid": "9408defd-529b-4da7-9ae3-b8ca39aae5ef",
     "showTitle": false,
     "tableResultSettingsMap": {},
     "title": ""
    }
   },
   "outputs": [],
   "source": [
    "display(dbutils.fs.ls(\"dbfs:/FileStore/rachlenn/Thr 20 process\"))\n"
   ]
  },
  {
   "cell_type": "code",
   "execution_count": 0,
   "metadata": {
    "application/vnd.databricks.v1+cell": {
     "cellMetadata": {
      "byteLimit": 2048000,
      "rowLimit": 10000
     },
     "inputWidgets": {},
     "nuid": "f0abc1f6-0ba5-4742-8352-b2fcdc90ebe6",
     "showTitle": false,
     "tableResultSettingsMap": {},
     "title": ""
    }
   },
   "outputs": [],
   "source": [
    "import pandas as pd \n",
    "df = pd.read_csv(\"/dbfs/FileStore/rachlenn/labeled/test_KMThu16_2021_07_15_15_36_24Z\")\n"
   ]
  },
  {
   "cell_type": "code",
   "execution_count": 0,
   "metadata": {
    "application/vnd.databricks.v1+cell": {
     "cellMetadata": {
      "byteLimit": 2048000,
      "rowLimit": 10000
     },
     "inputWidgets": {},
     "nuid": "2a54811f-12ae-4d6c-b6aa-1397395c0f02",
     "showTitle": false,
     "tableResultSettingsMap": {},
     "title": ""
    }
   },
   "outputs": [],
   "source": [
    "import pandas as pd \n",
    "\n",
    "# Define file path to daily df #1\n",
    "file_path = \"/dbfs/FileStore/rachlenn/Thr 20 process/test_KMThu16_2021_07_17_15_36_26Z\"\n",
    "\n",
    "# Read the csv into a pandas df\n",
    "df = pd.read_csv(file_path)\n",
    "\n",
    "# Display df shape \n",
    "display(pd.DataFrame({\"Shape\": [f\"{df.shape[0]} rows x {df.shape[1]} columns\"]}))\n",
    "\n",
    "# Look at head of df\n",
    "display(df.head(10))\n",
    "\n",
    "# Get a summary of the df\n",
    "summary = pd.DataFrame({\n",
    "    \"Column Name\": df.columns,\n",
    "    \"Data Type\": [str(x) for x in df.dtypes.values],\n",
    "    \n",
    "})\n",
    "\n",
    "# Display the summary table\n",
    "display(summary)"
   ]
  }
 ],
 "metadata": {
  "application/vnd.databricks.v1+notebook": {
   "computePreferences": null,
   "dashboards": [],
   "environmentMetadata": {
    "base_environment": "",
    "environment_version": "2"
   },
   "inputWidgetPreferences": null,
   "language": "python",
   "notebookMetadata": {
    "pythonIndentUnit": 4
   },
   "notebookName": "EDA",
   "widgets": {}
  },
  "language_info": {
   "name": "python"
  }
 },
 "nbformat": 4,
 "nbformat_minor": 0
}
