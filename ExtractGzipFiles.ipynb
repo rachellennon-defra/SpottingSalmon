{
 "cells": [
  {
   "cell_type": "markdown",
   "metadata": {
    "application/vnd.databricks.v1+cell": {
     "cellMetadata": {},
     "inputWidgets": {},
     "nuid": "12e32d83-5941-4091-b4c3-a9d392759e17",
     "showTitle": false,
     "tableResultSettingsMap": {},
     "title": ""
    }
   },
   "source": [
    "Extract Gzip Files"
   ]
  },
  {
   "cell_type": "markdown",
   "metadata": {
    "application/vnd.databricks.v1+cell": {
     "cellMetadata": {},
     "inputWidgets": {},
     "nuid": "359fb3da-4a73-4168-a26f-675e2e75bf5f",
     "showTitle": false,
     "tableResultSettingsMap": {},
     "title": ""
    }
   },
   "source": [
    "Import the files into the FileStore and run the below to extract. "
   ]
  },
  {
   "cell_type": "code",
   "execution_count": 0,
   "metadata": {
    "application/vnd.databricks.v1+cell": {
     "cellMetadata": {
      "byteLimit": 2048000,
      "rowLimit": 10000
     },
     "inputWidgets": {},
     "nuid": "8197b284-ae27-4ae7-9bff-af0825b21889",
     "showTitle": false,
     "tableResultSettingsMap": {},
     "title": ""
    }
   },
   "outputs": [],
   "source": [
    "import gzip\n",
    "import shutil\n",
    "import os\n",
    "\n",
    "# Set the directory where the .gz files are located\n",
    "input_dir = \"/dbfs/FileStore/rachlenn\"  # Use /dbfs to access uploaded files\n",
    "\n",
    "# Create the output directory\n",
    "output_dir = \"/dbfs/FileStore/rachlenn/extracted_csv\"\n",
    "os.makedirs(output_dir, exist_ok=True)\n",
    "\n",
    "# Loop through all .gz files\n",
    "for filename in os.listdir(input_dir):\n",
    "    if filename.endswith(\".gz\"):\n",
    "        gz_path = os.path.join(input_dir, filename)\n",
    "        csv_filename = filename[:-7]  # Remove .csv.gz extension\n",
    "        csv_path = os.path.join(output_dir, csv_filename)\n",
    "\n",
    "        print(f\"Decompressing: {filename} → {csv_filename}\")\n",
    "\n",
    "        with gzip.open(gz_path, 'rb') as f_in:\n",
    "            with open(csv_path, 'wb') as f_out:\n",
    "                shutil.copyfileobj(f_in, f_out)\n"
   ]
  },
  {
   "cell_type": "markdown",
   "metadata": {
    "application/vnd.databricks.v1+cell": {
     "cellMetadata": {},
     "inputWidgets": {},
     "nuid": "340aa26a-facf-40b8-a0f0-0cce0c44e4a1",
     "showTitle": false,
     "tableResultSettingsMap": {},
     "title": ""
    }
   },
   "source": [
    "Move the extracted csv files into the mounted lab directory "
   ]
  },
  {
   "cell_type": "code",
   "execution_count": 0,
   "metadata": {
    "application/vnd.databricks.v1+cell": {
     "cellMetadata": {
      "byteLimit": 2048000,
      "rowLimit": 10000
     },
     "inputWidgets": {},
     "nuid": "4e06012b-05c8-4752-9ef6-a2467770b79b",
     "showTitle": false,
     "tableResultSettingsMap": {},
     "title": ""
    }
   },
   "outputs": [],
   "source": [
    "dbutils.fs.mv(\"FileStore/rachlenn/extracted_csv\", \"mnt/lab/unrestricted/rachel.lennon@defra.gov.uk/extracted_csv\", True) "
   ]
  },
  {
   "cell_type": "code",
   "execution_count": 0,
   "metadata": {
    "application/vnd.databricks.v1+cell": {
     "cellMetadata": {
      "byteLimit": 2048000,
      "rowLimit": 10000
     },
     "inputWidgets": {},
     "nuid": "a15452f5-d1a8-405b-b12d-792b3511df54",
     "showTitle": false,
     "tableResultSettingsMap": {},
     "title": ""
    }
   },
   "outputs": [],
   "source": [
    "dbutils.fs.ls(\"mnt/lab/unrestricted/rachel.lennon@defra.gov.uk/extracted_csv\")\n"
   ]
  },
  {
   "cell_type": "markdown",
   "metadata": {
    "application/vnd.databricks.v1+cell": {
     "cellMetadata": {},
     "inputWidgets": {},
     "nuid": "e1be1659-445d-49fa-ac17-d652d8d5405a",
     "showTitle": false,
     "tableResultSettingsMap": {},
     "title": ""
    }
   },
   "source": [
    "Delete the original gz files from the FileStore"
   ]
  },
  {
   "cell_type": "code",
   "execution_count": 0,
   "metadata": {
    "application/vnd.databricks.v1+cell": {
     "cellMetadata": {
      "byteLimit": 2048000,
      "rowLimit": 10000
     },
     "inputWidgets": {},
     "nuid": "a330b815-c006-48ba-8e67-eaef188c0921",
     "showTitle": false,
     "tableResultSettingsMap": {},
     "title": ""
    }
   },
   "outputs": [],
   "source": [
    "import os\n",
    "\n",
    "# Path to the directory where your .gz files are stored\n",
    "gz_dir = \"/dbfs/FileStore/rachlenn\"\n",
    "\n",
    "# Loop through and delete all .gz files\n",
    "for filename in os.listdir(gz_dir):\n",
    "    if filename.endswith(\".gz\"):\n",
    "        file_path = os.path.join(gz_dir, filename)\n",
    "        os.remove(file_path)\n",
    "        print(f\"🗑 Deleted: {filename}\")"
   ]
  }
 ],
 "metadata": {
  "application/vnd.databricks.v1+notebook": {
   "computePreferences": null,
   "dashboards": [],
   "environmentMetadata": {
    "base_environment": "",
    "environment_version": "2"
   },
   "inputWidgetPreferences": null,
   "language": "python",
   "notebookMetadata": {
    "mostRecentlyExecutedCommandWithImplicitDF": {
     "commandId": -1,
     "dataframes": [
      "_sqldf"
     ]
    },
    "pythonIndentUnit": 4
   },
   "notebookName": "ExtractGzipFiles",
   "widgets": {}
  },
  "language_info": {
   "name": "python"
  }
 },
 "nbformat": 4,
 "nbformat_minor": 0
}
