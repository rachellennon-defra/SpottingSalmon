{
 "cells": [
  {
   "cell_type": "markdown",
   "metadata": {
    "application/vnd.databricks.v1+cell": {
     "cellMetadata": {},
     "inputWidgets": {},
     "nuid": "bc639990-75bf-4313-9cf2-376ec4486c94",
     "showTitle": false,
     "tableResultSettingsMap": {},
     "title": ""
    }
   },
   "source": [
    "**Random Forest Analysis**\n",
    "\n",
    "Insepct the dataframe"
   ]
  },
  {
   "cell_type": "code",
   "execution_count": 0,
   "metadata": {
    "application/vnd.databricks.v1+cell": {
     "cellMetadata": {
      "byteLimit": 2048000,
      "rowLimit": 10000
     },
     "inputWidgets": {},
     "nuid": "4d012969-2839-4887-905a-c0e1966a60b3",
     "showTitle": false,
     "tableResultSettingsMap": {},
     "title": ""
    }
   },
   "outputs": [],
   "source": [
    "import pandas as pd\n",
    "\n",
    "# Inspect dataframe\n",
    "df = pd.read_csv(\"/dbfs/mnt/lab/unrestricted/rachel.lennon@defra.gov.uk/cleaned/all_balanced.csv\")\n",
    "display(df.head(10))"
   ]
  },
  {
   "cell_type": "markdown",
   "metadata": {
    "application/vnd.databricks.v1+cell": {
     "cellMetadata": {},
     "inputWidgets": {},
     "nuid": "32a5fb0a-9ed6-4fdc-9083-dad000d4ace2",
     "showTitle": false,
     "tableResultSettingsMap": {},
     "title": ""
    }
   },
   "source": [
    "Data preperation"
   ]
  },
  {
   "cell_type": "code",
   "execution_count": 0,
   "metadata": {
    "application/vnd.databricks.v1+cell": {
     "cellMetadata": {
      "byteLimit": 2048000,
      "rowLimit": 10000
     },
     "inputWidgets": {},
     "nuid": "8b407814-5152-4087-beda-32bc726b9b31",
     "showTitle": false,
     "tableResultSettingsMap": {},
     "title": ""
    }
   },
   "outputs": [],
   "source": [
    "import numpy as np\n",
    "import pandas as pd\n",
    "from scipy import stats\n",
    "from numpy.fft import rfft, rfftfreq\n",
    "\n",
    "# Parse signal into numeric arrays\n",
    "def parse_signal(x):\n",
    "    if isinstance(x, (list, np.ndarray)):\n",
    "        return np.array(x, dtype=np.float32)\n",
    "    x = str(x).strip().replace(\"\\n\", \" \").replace(\",\", \" \")\n",
    "    x = x.strip(\"[]\")\n",
    "    return np.array(x.split(), dtype=np.float32)\n",
    "\n",
    "signals = df[\"signal_scaled\"].apply(parse_signal)\n",
    "\n",
    "# Feature extractor\n",
    "def extract_features(signal, fs=100):\n",
    "    feats = {\n",
    "        \"mean\": np.mean(signal),\n",
    "        \"std\": np.std(signal),\n",
    "        \"min\": np.min(signal),\n",
    "        \"max\": np.max(signal),\n",
    "        \"median\": np.median(signal),\n",
    "        \"skew\": stats.skew(signal),\n",
    "        \"kurtosis\": stats.kurtosis(signal),\n",
    "        \"rms\": np.sqrt(np.mean(signal**2)),\n",
    "        \"abs_mean\": np.mean(np.abs(signal)),\n",
    "        \"ptp\": np.ptp(signal)  # peak-to-peak\n",
    "    }\n",
    "\n",
    "    diff = np.diff(signal)\n",
    "    feats.update({\n",
    "        \"diff_mean\": np.mean(diff),\n",
    "        \"diff_std\": np.std(diff),\n",
    "        \"num_peaks\": np.sum((diff[:-1] > 0) & (diff[1:] <= 0)),\n",
    "    })\n",
    "\n",
    "    # frequency domain\n",
    "    N = len(signal)\n",
    "    yf = np.abs(rfft(signal))\n",
    "    xf = rfftfreq(N, 1/fs)\n",
    "    total_power = np.sum(yf**2) + 1e-9\n",
    "    bands = [(0.5,2),(2,5),(5,20),(20,50)]\n",
    "    for i,(lo,hi) in enumerate(bands):\n",
    "        idx = (xf >= lo) & (xf < hi)\n",
    "        feats[f\"band_{i}_power\"] = np.sum(yf[idx]**2) / total_power\n",
    "\n",
    "    feats[\"dom_freq\"] = xf[np.argmax(yf)] if yf.size>0 else 0.0\n",
    "    return feats\n",
    "\n",
    "#  Build feature DataFrame\n",
    "features = [extract_features(sig) for sig in signals]\n",
    "df_features = pd.DataFrame(features, index=df.index)\n",
    "\n",
    "# Combine with labels\n",
    "df_features[\"fish_present\"] = df[\"fish_present\"].astype(int).values\n",
    "\n",
    "# Visualise df \n",
    "print(df_features.head())\n",
    "print(\"Shape:\", df_features.shape)\n"
   ]
  },
  {
   "cell_type": "markdown",
   "metadata": {
    "application/vnd.databricks.v1+cell": {
     "cellMetadata": {},
     "inputWidgets": {},
     "nuid": "c880b7db-3db2-4bce-9796-cdf94d2be845",
     "showTitle": false,
     "tableResultSettingsMap": {},
     "title": ""
    }
   },
   "source": [
    "**Train the Model**"
   ]
  },
  {
   "cell_type": "code",
   "execution_count": 0,
   "metadata": {
    "application/vnd.databricks.v1+cell": {
     "cellMetadata": {
      "byteLimit": 2048000,
      "rowLimit": 10000
     },
     "inputWidgets": {},
     "nuid": "530af726-2bd9-41c8-b1aa-da8f005d60d0",
     "showTitle": false,
     "tableResultSettingsMap": {},
     "title": ""
    }
   },
   "outputs": [],
   "source": [
    "from sklearn.model_selection import train_test_split, StratifiedKFold, cross_val_score\n",
    "from sklearn.ensemble import RandomForestClassifier\n",
    "from sklearn.decomposition import PCA\n",
    "from sklearn.pipeline import Pipeline\n",
    "from sklearn.metrics import classification_report, accuracy_score, roc_auc_score\n",
    "\n",
    "#  Split features and labels\n",
    "X = df_features.drop(\"fish_present\", axis=1).values\n",
    "y = df_features[\"fish_present\"].values\n",
    "\n",
    "X_train, X_val, y_train, y_val = train_test_split(\n",
    "    X, y, test_size=0.2, stratify=y, random_state=42\n",
    ")\n",
    "\n",
    "#  Build pipeline: PCA + Random Forest \n",
    "pipeline = Pipeline([\n",
    "    (\"pca\", PCA(n_components=min(30, X_train.shape[1]), random_state=42)),  # optional\n",
    "    (\"rf\", RandomForestClassifier(\n",
    "        n_estimators=300,\n",
    "        max_depth=10,\n",
    "        class_weight=\"balanced\",\n",
    "        random_state=42,\n",
    "        n_jobs=-1\n",
    "    ))\n",
    "])\n",
    "\n",
    "#  Cross-validation (optional) \n",
    "cv = StratifiedKFold(n_splits=5, shuffle=True, random_state=42)\n",
    "cv_scores = cross_val_score(pipeline, X_train, y_train, cv=cv, scoring=\"f1_macro\")\n",
    "print(\"5-fold F1-macro (train):\", cv_scores)\n",
    "print(\"Mean F1-macro:\", cv_scores.mean())\n",
    "\n",
    "#  Train on full training set \n",
    "pipeline.fit(X_train, y_train)\n",
    "\n",
    "#  Predict on validation set \n",
    "y_pred = pipeline.predict(X_val)\n",
    "y_pred_proba = pipeline.predict_proba(X_val)[:, 1]\n",
    "\n",
    "#  Evaluation \n",
    "print(\"\\nValidation Metrics:\")\n",
    "print(\"Accuracy:\", accuracy_score(y_val, y_pred))\n",
    "print(\"ROC-AUC:\", roc_auc_score(y_val, y_pred_proba))\n",
    "print(\"\\nClassification Report:\")\n",
    "print(classification_report(y_val, y_pred, digits=3))\n"
   ]
  }
 ],
 "metadata": {
  "application/vnd.databricks.v1+notebook": {
   "computePreferences": null,
   "dashboards": [],
   "environmentMetadata": {
    "base_environment": "",
    "environment_version": "3"
   },
   "inputWidgetPreferences": null,
   "language": "python",
   "notebookMetadata": {
    "pythonIndentUnit": 4
   },
   "notebookName": "3.2_RandomForest",
   "widgets": {}
  },
  "language_info": {
   "name": "python"
  }
 },
 "nbformat": 4,
 "nbformat_minor": 0
}
