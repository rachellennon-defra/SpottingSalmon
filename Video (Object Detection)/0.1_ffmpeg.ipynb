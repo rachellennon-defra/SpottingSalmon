{
 "cells": [
  {
   "cell_type": "code",
   "execution_count": 0,
   "metadata": {
    "application/vnd.databricks.v1+cell": {
     "cellMetadata": {
      "byteLimit": 2048000,
      "rowLimit": 10000
     },
     "inputWidgets": {},
     "nuid": "111a42bf-f59f-4756-bdc5-1900b2ad9074",
     "showTitle": false,
     "tableResultSettingsMap": {},
     "title": ""
    }
   },
   "outputs": [],
   "source": [
    "# Adrian's ffmpeg approach with an offset pertaining to the known time within the 30 min video when a fish occurs.\n",
    "\n",
    "import subprocess\n",
    "\n",
    "def extract_clip_ffmpeg(input_path: str, offset_seconds: int, output_path: str, duration: int = 10, quality: int = 4):\n",
    "    \"\"\"\n",
    "    Extracts a video clip using ffmpeg from the input_path starting at offset_seconds,\n",
    "    for the specified duration, and saves it to output_path.\n",
    "    \"\"\"\n",
    "    command = [\n",
    "        \"ffmpeg\",\n",
    "        \"-n\",                 # Do not overwrite\n",
    "        \"-v\", \"quiet\",        # Keep console output to minimum \n",
    "        \"-stats\",             # Show encoding stats\n",
    "        \"-i\", input_path,     # Input file location\n",
    "        \"-ss\", str(offset_seconds),  # Start time of event\n",
    "        \"-t\", str(duration),         # Duration\n",
    "        \"-q\", str(quality),          # Quality level\n",
    "        output_path           # Output file location\n",
    "    ]\n",
    "\n",
    "    try:\n",
    "        subprocess.run(command, check=True)\n",
    "        print(f\"Clip extracted to: {output_path}\")\n",
    "    except subprocess.CalledProcessError as e:\n",
    "        print(f\"Error extracting clip: {e}\")\n"
   ]
  },
  {
   "cell_type": "code",
   "execution_count": 0,
   "metadata": {
    "application/vnd.databricks.v1+cell": {
     "cellMetadata": {},
     "inputWidgets": {},
     "nuid": "60c397ae-25b7-410c-afdc-44754503ad17",
     "showTitle": false,
     "tableResultSettingsMap": {},
     "title": ""
    }
   },
   "outputs": [],
   "source": [
    "# Timestamp approach with known event extracting 10 seconds on either side of event time - in UTC.\n",
    "\n",
    "from datetime import datetime, timedelta\n",
    "import subprocess\n",
    "\n",
    "def extract_event_clip(video_start_time_str, event_time_str, input_path, output_path, clip_duration=10):\n",
    "    \"\"\"\n",
    "    Extracts a clip centered around an event timestamp from a video.\n",
    "    Both timestamps should be in UTC format: 'YYYY-MM-DD HH:MM:SS'\n",
    "    \"\"\"\n",
    "    # Convert strings to datetime objects\n",
    "    video_start_time = datetime.strptime(video_start_time_str, \"%Y-%m-%d %H:%M:%S\")\n",
    "    event_time = datetime.strptime(event_time_str, \"%Y-%m-%d %H:%M:%S\")\n",
    "    \n",
    "    # Calculate the offset in seconds from the video start\n",
    "    time_diff = (event_time - video_start_time).total_seconds()\n",
    "    \n",
    "    # Center the 10s clip around the event, so go back 5s from event\n",
    "    clip_start_offset = max(0, time_diff - clip_duration / 2)  # avoid negative offset\n",
    "\n",
    "    # Run ffmpeg command\n",
    "    command = [\n",
    "        \"ffmpeg\",\n",
    "        \"-n\",\n",
    "        \"-v\", \"quiet\",\n",
    "        \"-stats\",\n",
    "        \"-i\", input_path,\n",
    "        \"-ss\", str(clip_start_offset),\n",
    "        \"-t\", str(clip_duration),\n",
    "        \"-q\", \"4\",\n",
    "        output_path\n",
    "    ]\n",
    "\n",
    "    try:\n",
    "        subprocess.run(command, check=True)\n",
    "        print(f\"Clip extracted to: {output_path}\")\n",
    "    except subprocess.CalledProcessError as e:\n",
    "        print(f\"ffmpeg error: {e}\")\n"
   ]
  }
 ],
 "metadata": {
  "application/vnd.databricks.v1+notebook": {
   "computePreferences": null,
   "dashboards": [],
   "environmentMetadata": {
    "base_environment": "",
    "environment_version": "2"
   },
   "inputWidgetPreferences": null,
   "language": "python",
   "notebookMetadata": {
    "pythonIndentUnit": 4
   },
   "notebookName": "0.1_ffmpeg",
   "widgets": {}
  },
  "language_info": {
   "name": "python"
  }
 },
 "nbformat": 4,
 "nbformat_minor": 0
}
