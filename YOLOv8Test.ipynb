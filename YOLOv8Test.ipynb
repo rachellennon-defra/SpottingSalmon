{
 "cells": [
  {
   "cell_type": "code",
   "execution_count": 0,
   "metadata": {
    "application/vnd.databricks.v1+cell": {
     "cellMetadata": {
      "byteLimit": 2048000,
      "rowLimit": 10000
     },
     "inputWidgets": {},
     "nuid": "8b640026-08f6-4fdf-90a1-2c0a839139a1",
     "showTitle": false,
     "tableResultSettingsMap": {},
     "title": ""
    }
   },
   "outputs": [],
   "source": [
    "# Install dependencies\n",
    "# Install PyTorch (with or without CUDA depending on your cluster)\n",
    "# This installs the CPU version.\n",
    "%pip install torch torchvision torchaudio --extra-index-url https://download.pytorch.org/whl/cpu\n",
    "\n",
    "# Install Ultralytics YOLO\n",
    "%pip install ultralytics\n"
   ]
  },
  {
   "cell_type": "code",
   "execution_count": 0,
   "metadata": {
    "application/vnd.databricks.v1+cell": {
     "cellMetadata": {
      "byteLimit": 2048000,
      "rowLimit": 10000
     },
     "inputWidgets": {},
     "nuid": "cae30754-ff5e-4776-a797-dd8b720b465c",
     "showTitle": false,
     "tableResultSettingsMap": {},
     "title": ""
    }
   },
   "outputs": [],
   "source": [
    "# Download a test dataset\n",
    "\n",
    "from ultralytics import YOLO\n",
    "\n",
    "# Download COCO128 dataset automatically\n",
    "!curl -L https://github.com/ultralytics/yolov5/releases/download/v1.0/coco128.zip -o coco128.zip\n",
    "!unzip -q coco128.zip -d dbfs/FileStore/rachlenn\n"
   ]
  }
 ],
 "metadata": {
  "application/vnd.databricks.v1+notebook": {
   "computePreferences": null,
   "dashboards": [],
   "environmentMetadata": {
    "base_environment": "",
    "environment_version": "2"
   },
   "inputWidgetPreferences": null,
   "language": "python",
   "notebookMetadata": {
    "pythonIndentUnit": 4
   },
   "notebookName": "YOLOv8Test",
   "widgets": {}
  },
  "language_info": {
   "name": "python"
  }
 },
 "nbformat": 4,
 "nbformat_minor": 0
}
