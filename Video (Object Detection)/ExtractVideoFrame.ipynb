{
 "cells": [
  {
   "cell_type": "code",
   "execution_count": 0,
   "metadata": {
    "application/vnd.databricks.v1+cell": {
     "cellMetadata": {
      "byteLimit": 2048000,
      "rowLimit": 10000
     },
     "inputWidgets": {},
     "nuid": "22d8011c-9c27-4840-ac1f-d706658ac1ad",
     "showTitle": false,
     "tableResultSettingsMap": {},
     "title": ""
    }
   },
   "outputs": [],
   "source": [
    "# Check the metadata on the video file\n",
    "import subprocess\n",
    "import json\n",
    "\n",
    "# File path\n",
    "video_file = \"/dbfs/FileStore/rachlenn/4_2021_07_06_14_11_37x.mp4\"\n",
    "\n",
    "cmd = [\n",
    "    \"ffprobe\",\n",
    "    \"-v\", \"error\",\n",
    "    \"-select_streams\", \"v:0\",\n",
    "    \"-show_entries\", \"stream=codec_name,width,height,r_frame_rate\",\n",
    "    \"-of\", \"json\",\n",
    "    video_file\n",
    "]\n",
    "\n",
    "result = subprocess.run(cmd, capture_output=True, text=True)\n",
    "info = json.loads(result.stdout)\n",
    "\n",
    "video = info[\"streams\"][0]\n",
    "codec = video[\"codec_name\"]\n",
    "width = video[\"width\"]\n",
    "height = video[\"height\"]\n",
    "num, denom = map(int, video[\"r_frame_rate\"].split(\"/\"))\n",
    "fps = round(num / denom, 2)\n",
    "\n",
    "print(f\"Codec: {codec}\")\n",
    "print(f\"Resolution: {width}x{height}\")\n",
    "print(f\"FPS: {fps}\")\n",
    "\n"
   ]
  },
  {
   "cell_type": "code",
   "execution_count": 0,
   "metadata": {
    "application/vnd.databricks.v1+cell": {
     "cellMetadata": {
      "byteLimit": 2048000,
      "rowLimit": 10000
     },
     "inputWidgets": {},
     "nuid": "6da9c5d2-7464-4fab-b4ca-19b44064ed55",
     "showTitle": false,
     "tableResultSettingsMap": {},
     "title": ""
    }
   },
   "outputs": [],
   "source": [
    "# Import relevant packages\n",
    "%pip install opencv-python\n",
    "import cv2\n",
    "import os\n",
    "\n",
    "# Set the directory where the video files are located\n",
    "input_dir = \"/dbfs/FileStore/rachlenn\" \n",
    "\n",
    "# Set the directory where the extracted frames will be saved\n",
    "output_dir = \"/dbfs/FileStore/rachlenn/extracted_frames\"\n",
    "os.makedirs(output_dir, exist_ok=True)\n",
    "\n",
    "# Supported video file extensions\n",
    "video_extensions = ('.mp4')\n",
    "\n",
    "# Function to extract frames from a single video\n",
    "def extract_frames(video_path, output_folder, frame_interval=1):\n",
    "    os.makedirs(output_folder, exist_ok=True) # Create the output folder\n",
    "    cap = cv2.VideoCapture(video_path) # Open the video file\n",
    "\n",
    "    if not cap.isOpened(): # Check if the video file was opened successfully\n",
    "        print(f\"Error: Could not open video file {video_path}\")\n",
    "        return\n",
    "\n",
    "    frame_count = 0 # Counter for total frames\n",
    "    saved_count = 0 # Counter for saved frames\n",
    "\n",
    "    while True: # Loop through each frame\n",
    "        ret, frame = cap.read() # Read the next frame\n",
    "        if not ret: \n",
    "            break # Break the loop if there are no more frames\n",
    "\n",
    "        if frame_count % frame_interval == 0: # Save the frame if it's a multiple of the frame interval\n",
    "            frame_filename = os.path.join(output_folder, f\"frame{frame_count:05d}.jpg\")\n",
    "            cv2.imwrite(frame_filename, frame) # Save the frame as img\n",
    "            saved_count += 1 \n",
    "\n",
    "        frame_count += 1\n",
    "\n",
    "    cap.release()\n",
    "    print(f\"Extracted {saved_count} frames from '{os.path.basename(video_path)}'\")\n",
    "\n",
    "# Loop through each file in the input directory\n",
    "for filename in os.listdir(input_dir):\n",
    "    if filename.lower().endswith(video_extensions):\n",
    "        video_path = os.path.join(input_dir, filename)\n",
    "        video_name = os.path.splitext(filename)[0]\n",
    "        video_output_folder = os.path.join(output_dir, video_name)\n",
    "\n",
    "        extract_frames(video_path, video_output_folder, frame_interval=1)\n",
    "\n",
    "\n"
   ]
  },
  {
   "cell_type": "code",
   "execution_count": 0,
   "metadata": {
    "application/vnd.databricks.v1+cell": {
     "cellMetadata": {
      "byteLimit": 2048000,
      "rowLimit": 10000
     },
     "inputWidgets": {},
     "nuid": "635d6e62-ba93-422b-b576-0e5c2b233133",
     "showTitle": false,
     "tableResultSettingsMap": {},
     "title": ""
    }
   },
   "outputs": [],
   "source": [
    "# Display extracted frames\n",
    "\n",
    "from PIL import Image\n",
    "\n",
    "frame_dir = \"/dbfs/FileStore/rachlenn/to_download/4_2021_07_28_14_02_53x\"\n",
    "\n",
    "# Show only the first 5 frames\n",
    "for i, filename in enumerate(sorted(os.listdir(frame_dir))):\n",
    "    if filename.startswith(\"frame\") and filename.endswith(\".jpg\"):\n",
    "        if i >= 5:  # Limit to first 5\n",
    "            break\n",
    "        frame_path = os.path.join(frame_dir, filename)\n",
    "        img = Image.open(frame_path)\n",
    "        display(img)\n"
   ]
  },
  {
   "cell_type": "code",
   "execution_count": 0,
   "metadata": {
    "application/vnd.databricks.v1+cell": {
     "cellMetadata": {
      "byteLimit": 2048000,
      "rowLimit": 10000
     },
     "inputWidgets": {},
     "nuid": "446ffedc-c2f6-4141-a1fe-2b8ae9ee9489",
     "showTitle": false,
     "tableResultSettingsMap": {},
     "title": ""
    }
   },
   "outputs": [],
   "source": [
    "# Move the extracted frames to the mounted lab zone directory\n",
    "dbutils.fs.mv(\"FileStore/rachlenn/extracted_frames\", \"mnt/lab/unrestricted/rachel.lennon@defra.gov.uk/extracted_frames\", True) "
   ]
  },
  {
   "cell_type": "code",
   "execution_count": 0,
   "metadata": {
    "application/vnd.databricks.v1+cell": {
     "cellMetadata": {
      "byteLimit": 2048000,
      "rowLimit": 10000
     },
     "inputWidgets": {},
     "nuid": "018cc79f-7596-468f-a28a-d490e2e27471",
     "showTitle": false,
     "tableResultSettingsMap": {},
     "title": ""
    }
   },
   "outputs": [],
   "source": [
    "# Path to the directory where your video files are stored\n",
    "v_dir = \"/dbfs/FileStore/rachlenn\"\n",
    "\n",
    "# Loop through and delete all video files\n",
    "for filename in os.listdir(v_dir):\n",
    "    if filename.endswith(\".mp4\"):\n",
    "        file_path = os.path.join(v_dir, filename)\n",
    "        os.remove(file_path)\n",
    "        print(f\"🗑 Deleted: {filename}\")"
   ]
  },
  {
   "cell_type": "code",
   "execution_count": 0,
   "metadata": {
    "application/vnd.databricks.v1+cell": {
     "cellMetadata": {
      "byteLimit": 2048000,
      "rowLimit": 10000
     },
     "inputWidgets": {},
     "nuid": "46be1fbd-48c4-45cd-a342-350464ccd32c",
     "showTitle": false,
     "tableResultSettingsMap": {},
     "title": ""
    }
   },
   "outputs": [],
   "source": [
    "# Extract frame rate for videos\n",
    "video_path = \"/dbfs/FileStore/rachlenn/to_download/4_2021_07_28_14_02_53x\"\n",
    "cap = cv2.VideoCapture(video_path) # Open the video file\n",
    "\n",
    "if not cap.isOpened():\n",
    "    print(\"Error: Could not open video.\")\n",
    "else:\n",
    "    fps = cap.get(cv2.CAP_PROP_FPS)\n",
    "    print(f\"Frame rate (FPS): {fps}\")\n",
    "\n",
    "cap.release()"
   ]
  }
 ],
 "metadata": {
  "application/vnd.databricks.v1+notebook": {
   "computePreferences": null,
   "dashboards": [],
   "environmentMetadata": {
    "base_environment": "",
    "environment_version": "2"
   },
   "inputWidgetPreferences": null,
   "language": "python",
   "notebookMetadata": {
    "mostRecentlyExecutedCommandWithImplicitDF": {
     "commandId": -1,
     "dataframes": [
      "_sqldf"
     ]
    },
    "pythonIndentUnit": 4
   },
   "notebookName": "ExtractVideoFrame",
   "widgets": {}
  },
  "language_info": {
   "name": "python"
  }
 },
 "nbformat": 4,
 "nbformat_minor": 0
}
