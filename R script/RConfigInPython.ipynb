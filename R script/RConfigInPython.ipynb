{
 "cells": [
  {
   "cell_type": "code",
   "execution_count": 0,
   "metadata": {
    "application/vnd.databricks.v1+cell": {
     "cellMetadata": {},
     "inputWidgets": {},
     "nuid": "eddba1e0-6625-426c-8b28-7255f1dd6a64",
     "showTitle": false,
     "tableResultSettingsMap": {},
     "title": ""
    }
   },
   "outputs": [],
   "source": [
    "# Step 1: Create widgets to accept parameters (like R Markdown params)\n",
    "dbutils.widgets.text(\"directory\", \"/default/path\")\n",
    "dbutils.widgets.text(\"file\", \"data.csv\")\n",
    "dbutils.widgets.text(\"THR\", \"0.5\")\n",
    "dbutils.widgets.text(\"bpfind\", \"True\")\n",
    "dbutils.widgets.text(\"writetocsv\", \"False\")\n",
    "dbutils.widgets.text(\"invertelectrodes\", \"False\")\n",
    "dbutils.widgets.text(\"prescalefactor\", \"1.0\")\n",
    "\n",
    "# Step 2: Read parameters\n",
    "directory = dbutils.widgets.get(\"directory\")\n",
    "file = dbutils.widgets.get(\"file\")\n",
    "THR = float(dbutils.widgets.get(\"THR\"))\n",
    "bpfind = dbutils.widgets.get(\"bpfind\") == 'True'\n",
    "writetocsv = dbutils.widgets.get(\"writetocsv\") == 'True'\n",
    "invertelectrodes = dbutils.widgets.get(\"invertelectrodes\") == 'True'\n",
    "prescalefactor = float(dbutils.widgets.get(\"prescalefactor\"))\n",
    "\n",
    "# Step 3: Import equivalent Python libraries\n",
    "import pandas as pd\n",
    "import numpy as np\n",
    "import os\n",
    "import re  # for string operations, like stringr\n",
    "from scipy.ndimage import uniform_filter1d  # for moving window operations\n",
    "\n",
    "# Any other imports you expect to use downstream\n"
   ]
  }
 ],
 "metadata": {
  "application/vnd.databricks.v1+notebook": {
   "computePreferences": null,
   "dashboards": [],
   "environmentMetadata": {
    "base_environment": "",
    "environment_version": "2"
   },
   "inputWidgetPreferences": null,
   "language": "python",
   "notebookMetadata": {
    "pythonIndentUnit": 4
   },
   "notebookName": "RConfigInPython",
   "widgets": {
    "THR": {
     "currentValue": "0.5",
     "nuid": "55579ae5-9d11-4231-94c9-7779fb6b7c1d",
     "typedWidgetInfo": {
      "autoCreated": false,
      "defaultValue": "0.5",
      "label": null,
      "name": "THR",
      "options": {
       "widgetDisplayType": "Text",
       "validationRegex": null
      },
      "parameterDataType": "String"
     },
     "widgetInfo": {
      "widgetType": "text",
      "defaultValue": "0.5",
      "label": null,
      "name": "THR",
      "options": {
       "widgetType": "text",
       "autoCreated": false,
       "validationRegex": null
      }
     }
    },
    "bpfind": {
     "currentValue": "True",
     "nuid": "50bcb7ff-6247-408c-a4a4-ac22f2e5a961",
     "typedWidgetInfo": {
      "autoCreated": false,
      "defaultValue": "True",
      "label": null,
      "name": "bpfind",
      "options": {
       "widgetDisplayType": "Text",
       "validationRegex": null
      },
      "parameterDataType": "String"
     },
     "widgetInfo": {
      "widgetType": "text",
      "defaultValue": "True",
      "label": null,
      "name": "bpfind",
      "options": {
       "widgetType": "text",
       "autoCreated": false,
       "validationRegex": null
      }
     }
    },
    "directory": {
     "currentValue": "/default/path",
     "nuid": "2a8f9a7c-cea7-4746-b9e6-cd14a706981c",
     "typedWidgetInfo": {
      "autoCreated": false,
      "defaultValue": "/default/path",
      "label": "",
      "name": "directory",
      "options": {
       "widgetDisplayType": "Text",
       "validationRegex": null
      },
      "parameterDataType": "String"
     },
     "widgetInfo": {
      "widgetType": "text",
      "defaultValue": "/default/path",
      "label": "",
      "name": "directory",
      "options": {
       "widgetType": "text",
       "autoCreated": false,
       "validationRegex": null
      }
     }
    },
    "file": {
     "currentValue": "data.csv",
     "nuid": "c5c28c7b-5708-409e-9ed9-67cf2493bc3d",
     "typedWidgetInfo": {
      "autoCreated": false,
      "defaultValue": "data.csv",
      "label": null,
      "name": "file",
      "options": {
       "widgetDisplayType": "Text",
       "validationRegex": null
      },
      "parameterDataType": "String"
     },
     "widgetInfo": {
      "widgetType": "text",
      "defaultValue": "data.csv",
      "label": null,
      "name": "file",
      "options": {
       "widgetType": "text",
       "autoCreated": false,
       "validationRegex": null
      }
     }
    },
    "invertelectrodes": {
     "currentValue": "False",
     "nuid": "fc0b6c67-b041-4479-9f5a-68073a40cc38",
     "typedWidgetInfo": {
      "autoCreated": false,
      "defaultValue": "False",
      "label": null,
      "name": "invertelectrodes",
      "options": {
       "widgetDisplayType": "Text",
       "validationRegex": null
      },
      "parameterDataType": "String"
     },
     "widgetInfo": {
      "widgetType": "text",
      "defaultValue": "False",
      "label": null,
      "name": "invertelectrodes",
      "options": {
       "widgetType": "text",
       "autoCreated": false,
       "validationRegex": null
      }
     }
    },
    "prescalefactor": {
     "currentValue": "1.0",
     "nuid": "6ce2d7be-1b99-48d1-b907-4fc2bfe6199c",
     "typedWidgetInfo": {
      "autoCreated": false,
      "defaultValue": "1.0",
      "label": null,
      "name": "prescalefactor",
      "options": {
       "widgetDisplayType": "Text",
       "validationRegex": null
      },
      "parameterDataType": "String"
     },
     "widgetInfo": {
      "widgetType": "text",
      "defaultValue": "1.0",
      "label": null,
      "name": "prescalefactor",
      "options": {
       "widgetType": "text",
       "autoCreated": false,
       "validationRegex": null
      }
     }
    },
    "writetocsv": {
     "currentValue": "False",
     "nuid": "44e948f4-d37f-485d-90c9-cb2c95515b48",
     "typedWidgetInfo": {
      "autoCreated": false,
      "defaultValue": "False",
      "label": null,
      "name": "writetocsv",
      "options": {
       "widgetDisplayType": "Text",
       "validationRegex": null
      },
      "parameterDataType": "String"
     },
     "widgetInfo": {
      "widgetType": "text",
      "defaultValue": "False",
      "label": null,
      "name": "writetocsv",
      "options": {
       "widgetType": "text",
       "autoCreated": false,
       "validationRegex": null
      }
     }
    }
   }
  },
  "language_info": {
   "name": "python"
  }
 },
 "nbformat": 4,
 "nbformat_minor": 0
}
