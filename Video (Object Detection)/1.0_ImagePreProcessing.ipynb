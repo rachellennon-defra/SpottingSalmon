{
 "cells": [
  {
   "cell_type": "markdown",
   "metadata": {
    "application/vnd.databricks.v1+cell": {
     "cellMetadata": {},
     "inputWidgets": {},
     "nuid": "b0e5c663-3e3d-470a-835c-40a666234f84",
     "showTitle": false,
     "tableResultSettingsMap": {},
     "title": ""
    }
   },
   "source": [
    "### Inspect data"
   ]
  },
  {
   "cell_type": "code",
   "execution_count": 0,
   "metadata": {
    "application/vnd.databricks.v1+cell": {
     "cellMetadata": {
      "byteLimit": 2048000,
      "rowLimit": 10000
     },
     "inputWidgets": {},
     "nuid": "2b8f8fb6-cdad-4dfa-b88c-f4358bae55ce",
     "showTitle": false,
     "tableResultSettingsMap": {},
     "title": ""
    }
   },
   "outputs": [],
   "source": [
    "import os\n",
    "\n",
    "base_dir = \"/dbfs/FileStore/rachlenn/video/LabelledFishYOLOv11\"  # change this!\n",
    "for split in [\"train\", \"valid\", \"test\"]:\n",
    "    split_dir = os.path.join(base_dir, split)\n",
    "    if os.path.exists(split_dir):\n",
    "        print(f\"{split} has {len(os.listdir(split_dir))} files\")\n",
    "    else:\n",
    "        print(f\"{split} directory not found!\")\n"
   ]
  },
  {
   "cell_type": "code",
   "execution_count": 0,
   "metadata": {
    "application/vnd.databricks.v1+cell": {
     "cellMetadata": {
      "byteLimit": 2048000,
      "rowLimit": 10000
     },
     "inputWidgets": {},
     "nuid": "13a022f2-d43c-403a-8701-8b1e10b8f28d",
     "showTitle": false,
     "tableResultSettingsMap": {},
     "title": ""
    }
   },
   "outputs": [],
   "source": [
    "import cv2\n",
    "import matplotlib.pyplot as plt\n",
    "import random\n",
    "\n",
    "# Pick 5 random images from train\n",
    "train_dir = os.path.join(base_dir, \"/dbfs/FileStore/rachlenn/video/LabelledFishYOLOv11/train/images\")\n",
    "files = [f for f in os.listdir(train_dir) if f.endswith((\".jpg\", \".png\"))]\n",
    "\n",
    "print(\"Total training images:\", len(files))\n",
    "\n",
    "for i in random.sample(files, min(5, len(files))):\n",
    "    img_path = os.path.join(train_dir, i)\n",
    "    img = cv2.imread(img_path)\n",
    "    if img is None:\n",
    "        print(f\"⚠️ Could not read {i}\")\n",
    "        continue\n",
    "\n",
    "    h, w, c = img.shape\n",
    "    print(f\"{i}: {w}x{h}, channels={c}\")\n",
    "\n",
    "    plt.imshow(cv2.cvtColor(img, cv2.COLOR_BGR2RGB))\n",
    "    plt.title(i)\n",
    "    plt.axis(\"off\")\n",
    "    plt.show()\n"
   ]
  },
  {
   "cell_type": "code",
   "execution_count": 0,
   "metadata": {
    "application/vnd.databricks.v1+cell": {
     "cellMetadata": {
      "byteLimit": 2048000,
      "rowLimit": 10000
     },
     "inputWidgets": {},
     "nuid": "de2a6210-3ea7-4b76-ba34-858dc49403e8",
     "showTitle": false,
     "tableResultSettingsMap": {},
     "title": ""
    }
   },
   "outputs": [],
   "source": [
    "label_dir = os.path.join(base_dir, \"/dbfs/FileStore/rachlenn/video/LabelledFishYOLOv11/train/labels\")\n",
    "label_files = os.listdir(label_dir)[:5]\n",
    "\n",
    "# class id, x_center, y_center, width, height\n",
    "for lf in label_files:\n",
    "    print(f\"File: {lf}\")\n",
    "    with open(os.path.join(label_dir, lf)) as f:\n",
    "        lines = f.readlines()\n",
    "        print(\"  \", lines[:3])  # first 3 annotations\n"
   ]
  }
 ],
 "metadata": {
  "application/vnd.databricks.v1+notebook": {
   "computePreferences": null,
   "dashboards": [],
   "environmentMetadata": {
    "base_environment": "",
    "environment_version": "3"
   },
   "inputWidgetPreferences": null,
   "language": "python",
   "notebookMetadata": {
    "pythonIndentUnit": 4
   },
   "notebookName": "1.0_ImagePreProcessing",
   "widgets": {}
  },
  "language_info": {
   "name": "python"
  }
 },
 "nbformat": 4,
 "nbformat_minor": 0
}
