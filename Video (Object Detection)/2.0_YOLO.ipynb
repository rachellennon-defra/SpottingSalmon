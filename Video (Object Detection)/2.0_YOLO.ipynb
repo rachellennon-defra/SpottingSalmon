{
 "cells": [
  {
   "cell_type": "markdown",
   "metadata": {
    "application/vnd.databricks.v1+cell": {
     "cellMetadata": {},
     "inputWidgets": {},
     "nuid": "5eb57142-b8c3-4110-bbaa-955ba38c9f36",
     "showTitle": false,
     "tableResultSettingsMap": {},
     "title": ""
    }
   },
   "source": [
    "### Model Training"
   ]
  },
  {
   "cell_type": "code",
   "execution_count": 0,
   "metadata": {
    "application/vnd.databricks.v1+cell": {
     "cellMetadata": {
      "byteLimit": 2048000,
      "rowLimit": 10000
     },
     "inputWidgets": {},
     "nuid": "55dcbf69-74a2-4435-9270-d2fc59ae7ca2",
     "showTitle": false,
     "tableResultSettingsMap": {},
     "title": ""
    }
   },
   "outputs": [],
   "source": [
    "# Initiate YAML file\n",
    "dataset_yaml = \"/dbfs/FileStore/rachlenn/video/LabelledFishYOLOv11/dataset.yaml\"\n",
    "\n",
    "yaml_content = \"\"\"\n",
    "path: /dbfs/FileStore/rachlenn/video/LabelledFishYOLOv11\n",
    "train: train/images\n",
    "val: valid/images\n",
    "nc: 1\n",
    "names: ['fish']\n",
    "\"\"\"\n",
    "\n",
    "with open(dataset_yaml, \"w\") as f:\n",
    "    f.write(yaml_content)\n",
    "\n"
   ]
  },
  {
   "cell_type": "code",
   "execution_count": 0,
   "metadata": {
    "application/vnd.databricks.v1+cell": {
     "cellMetadata": {
      "byteLimit": 2048000,
      "rowLimit": 10000
     },
     "inputWidgets": {},
     "nuid": "99efc1e0-a72c-4c17-9ae4-100f3ace4075",
     "showTitle": false,
     "tableResultSettingsMap": {},
     "title": ""
    }
   },
   "outputs": [],
   "source": [
    "from ultralytics import YOLO\n",
    "\n",
    "# Load pre-trained YOLOv8 nano model\n",
    "model = YOLO(\"yolov8n.pt\")\n"
   ]
  },
  {
   "cell_type": "code",
   "execution_count": 0,
   "metadata": {
    "application/vnd.databricks.v1+cell": {
     "cellMetadata": {
      "byteLimit": 2048000,
      "rowLimit": 10000
     },
     "inputWidgets": {},
     "nuid": "744d2684-2d9d-434f-b505-14b671279088",
     "showTitle": false,
     "tableResultSettingsMap": {},
     "title": ""
    }
   },
   "outputs": [],
   "source": [
    "import os\n",
    "import torch\n",
    "\n",
    "# CPU-only\n",
    "os.environ[\"CUDA_VISIBLE_DEVICES\"] = \"\"  "
   ]
  },
  {
   "cell_type": "code",
   "execution_count": 0,
   "metadata": {
    "application/vnd.databricks.v1+cell": {
     "cellMetadata": {
      "byteLimit": 2048000,
      "rowLimit": 10000
     },
     "inputWidgets": {},
     "nuid": "ac4d7a10-eb10-42f1-b94a-8a9fcde055bd",
     "showTitle": false,
     "tableResultSettingsMap": {},
     "title": ""
    }
   },
   "outputs": [],
   "source": [
    "results = model.train(\n",
    "    data=dataset_yaml,\n",
    "    epochs=50,\n",
    "    imgsz=640,\n",
    "    batch=16,\n",
    "    project=\"/dbfs/FileStore/rachlenn/video/LabelledFishYOLOv11/runs/train\",\n",
    "    name=\"fish_yolo\",\n",
    "    exist_ok=True,\n",
    "    device=\"cpu\",   \n",
    "    workers=0,\n",
    "    single_cls=True\n",
    ")\n"
   ]
  }
 ],
 "metadata": {
  "application/vnd.databricks.v1+notebook": {
   "computePreferences": null,
   "dashboards": [],
   "environmentMetadata": {
    "base_environment": "",
    "environment_version": "3"
   },
   "inputWidgetPreferences": null,
   "language": "python",
   "notebookMetadata": {
    "pythonIndentUnit": 4
   },
   "notebookName": "2.0_YOLO",
   "widgets": {}
  },
  "language_info": {
   "name": "python"
  }
 },
 "nbformat": 4,
 "nbformat_minor": 0
}
